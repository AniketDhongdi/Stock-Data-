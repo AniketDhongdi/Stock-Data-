{
 "cells": [
  {
   "cell_type": "code",
   "execution_count": null,
   "id": "db9a1346",
   "metadata": {},
   "outputs": [],
   "source": [
    "Stock = yf.Ticker(\"BCS\")\n",
    "Stock.info"
   ]
  },
  {
   "cell_type": "code",
   "execution_count": null,
   "id": "e4de17f0",
   "metadata": {},
   "outputs": [],
   "source": [
    "data= Stock.history(period=\"1y\", interval =\"1d\")\n",
    "print(data)"
   ]
  },
  {
   "cell_type": "code",
   "execution_count": null,
   "id": "3650bb0b",
   "metadata": {},
   "outputs": [],
   "source": [
    "data.head(25)"
   ]
  },
  {
   "cell_type": "code",
   "execution_count": null,
   "id": "a03c6faf",
   "metadata": {},
   "outputs": [],
   "source": [
    "data.isnull().sum()"
   ]
  },
  {
   "cell_type": "code",
   "execution_count": null,
   "id": "5fc878f5",
   "metadata": {},
   "outputs": [],
   "source": [
    "data.info()"
   ]
  },
  {
   "cell_type": "code",
   "execution_count": null,
   "id": "c033a3d5",
   "metadata": {},
   "outputs": [],
   "source": [
    "data[\"Daily_returns\"]= data['Close'].pct_change(1)*100\n",
    "filtered_data = data.loc[\"2025-05-01\" : \"2025-06-01\"]\n",
    "filtered_data.head(25)"
   ]
  },
  {
   "cell_type": "code",
   "execution_count": null,
   "id": "ad5e4db7",
   "metadata": {},
   "outputs": [],
   "source": [
    "filtered_data['Daily_returns'].replace(np.nan,0, inplace=True)\n",
    "filtered_data.head(25)\n",
    "filtered_data.describe().round(2)"
   ]
  },
  {
   "cell_type": "code",
   "execution_count": null,
   "id": "b730d2b5",
   "metadata": {},
   "outputs": [],
   "source": [
    "import matplotlib.pyplot as plt\n",
    "import seaborn as sns\n",
    "import plotly.express as px\n",
    "filtered_data = filtered_data.reset_index()\n",
    "filtered_data['Date'] = pd.to_datetime(filtered_data['Date'])\n",
    "filtered_data"
   ]
  },
  {
   "cell_type": "code",
   "execution_count": null,
   "id": "bc27c9c2",
   "metadata": {},
   "outputs": [],
   "source": [
    "fig=px.line(title=\"Barclays PLC Daily Returns\")\n",
    "fig.add_scatter(x=filtered_data['Date'], y=filtered_data['Daily_returns'], name='Daily Returns')\n"
   ]
  },
  {
   "cell_type": "code",
   "execution_count": null,
   "id": "bfb8991c",
   "metadata": {},
   "outputs": [],
   "source": [
    "def plot_financial_data(df, title):\n",
    "    fig = px.line(title=title)\n",
    "    \n",
    "    for i in df.columns[1:]:\n",
    "        fig.add_scatter(x=df['Date'], y=df[i], name=i)\n",
    "        fig.update_traces(line_width=1.5)\n",
    "        fig.update_layout(plot_bgcolor='white')\n",
    "    fig.show()\n"
   ]
  },
  {
   "cell_type": "code",
   "execution_count": null,
   "id": "be0cecfe",
   "metadata": {},
   "outputs": [],
   "source": [
    "plot_financial_data(filtered_data[['Date','Close','Open','Low',\"High\"]], \"Barclays PLC Daily Returns\")\n"
   ]
  },
  {
   "cell_type": "code",
   "execution_count": null,
   "id": "abf526f6",
   "metadata": {},
   "outputs": [],
   "source": [
    "plot_financial_data(filtered_data.iloc[:,[0,5]], \"Barclays PLC Volume chart\") "
   ]
  },
  {
   "cell_type": "code",
   "execution_count": null,
   "id": "8cd8a59d",
   "metadata": {},
   "outputs": [],
   "source": [
    "plot_financial_data(filtered_data.iloc[:,[0,8]], \"Barclays PLC Daily Returns\") "
   ]
  },
  {
   "cell_type": "code",
   "execution_count": null,
   "id": "792f5a26",
   "metadata": {},
   "outputs": [],
   "source": [
    "def percentage_return_classifier(percentage_return):\n",
    "    \n",
    "    if percentage_return > -0.3 and percentage_return <= 0.3:\n",
    "        return 'Insignificant Change'\n",
    "    elif percentage_return > 0.3 and percentage_return <= 3:\n",
    "        return 'Positive Change'\n",
    "    elif percentage_return > -3 and percentage_return <= -0.3:\n",
    "        return 'Negative Change'\n",
    "    elif percentage_return > 3 and percentage_return <= 7:\n",
    "        return 'Large Positive Change'\n",
    "    elif percentage_return > -7 and percentage_return <= -3:\n",
    "        return 'Large Negative Change'\n",
    "    elif percentage_return > 7:\n",
    "        return 'Bull Run'\n",
    "    elif percentage_return <= -7:\n",
    "        return 'Bear Sell Off'"
   ]
  },
  {
   "cell_type": "code",
   "execution_count": null,
   "id": "bd481b86",
   "metadata": {},
   "outputs": [],
   "source": [
    "filtered_data['Trend']= filtered_data['Daily_returns'].apply(percentage_return_classifier)\n",
    "filtered_data"
   ]
  },
  {
   "cell_type": "code",
   "execution_count": null,
   "id": "c9f43c8a",
   "metadata": {},
   "outputs": [],
   "source": [
    "trend_summary = filtered_data['Trend'].value_counts()\n",
    "trend_summary"
   ]
  },
  {
   "cell_type": "code",
   "execution_count": null,
   "id": "c2fa748d",
   "metadata": {},
   "outputs": [],
   "source": [
    "plt.figure(figsize = (5, 5))\n",
    "trend_summary.plot(kind = 'pie', y = 'Trend');"
   ]
  },
  {
   "cell_type": "code",
   "execution_count": null,
   "id": "26bf3444",
   "metadata": {},
   "outputs": [],
   "source": [
    "filtered_data.set_index(['Date'], inplace=True)   \n",
    "filtered_data"
   ]
  },
  {
   "cell_type": "code",
   "execution_count": null,
   "id": "69429fe4",
   "metadata": {},
   "outputs": [],
   "source": [
    "# MULTIPLE STOCK DATA VISUALIZATION\n",
    "import pandas as pd\n",
    "import numpy as np"
   ]
  },
  {
   "cell_type": "code",
   "execution_count": null,
   "id": "1c4206e2",
   "metadata": {},
   "outputs": [],
   "source": [
    "close_price_df = pd.read_csv(r\"C:\\Users\\ANIKET P DHONGDI\\Downloads\\stock_prices.csv\")\n"
   ]
  },
  {
   "cell_type": "code",
   "execution_count": null,
   "id": "646d4cc3",
   "metadata": {},
   "outputs": [],
   "source": [
    "close_price_df\n"
   ]
  },
  {
   "cell_type": "code",
   "execution_count": null,
   "id": "323a60f7",
   "metadata": {},
   "outputs": [],
   "source": [
    "daily_returns_df = close_price_df.iloc[:, 1:].pct_change(1) * 100\n",
    "daily_returns_df.replace(np.nan, 0, inplace=True)\n",
    "daily_returns_df "
   ]
  },
  {
   "cell_type": "code",
   "execution_count": null,
   "id": "fec90372",
   "metadata": {},
   "outputs": [],
   "source": [
    "\n",
    "daily_returns_df.insert(0, 'Date', close_price_df['Date'])\n",
    "daily_returns_df\n"
   ]
  },
  {
   "cell_type": "code",
   "execution_count": null,
   "id": "8223f5da",
   "metadata": {},
   "outputs": [],
   "source": [
    "plot_financial_data(close_price_df, \"Adjusted closing prices of multiple stocks\")"
   ]
  },
  {
   "cell_type": "code",
   "execution_count": null,
   "id": "c284c832",
   "metadata": {},
   "outputs": [],
   "source": [
    "plot_financial_data(daily_returns_df, \"Percentage daily returns of multiple stocks\")"
   ]
  },
  {
   "cell_type": "code",
   "execution_count": null,
   "id": "8df47666",
   "metadata": {},
   "outputs": [],
   "source": [
    "fig= px.histogram(daily_returns_df.drop(columns=['Date']))\n",
    "fig.update_layout(title_text='Distribution of Daily Returns for Multiple Stocks', xaxis_title='Daily Returns', yaxis_title='Frequency')"
   ]
  },
  {
   "cell_type": "code",
   "execution_count": null,
   "id": "ecb790c5",
   "metadata": {},
   "outputs": [],
   "source": [
    "plt.figure(figsize=(10, 6))\n",
    "sns.heatmap(daily_returns_df.drop(columns=['Date']).corr(), annot=True, cmap='coolwarm', fmt='.2f')"
   ]
  },
  {
   "cell_type": "code",
   "execution_count": null,
   "id": "b7c6de76",
   "metadata": {},
   "outputs": [],
   "source": [
    "sns.pairplot(daily_returns_df);"
   ]
  },
  {
   "cell_type": "code",
   "execution_count": null,
   "id": "2b17ab73",
   "metadata": {},
   "outputs": [],
   "source": [
    "def price_scaling(raw_price_df):\n",
    "    scaled_price_df = raw_price_df.copy()\n",
    "    for i in scaled_price_df.columns[1:]:\n",
    "        scaled_price_df[i] = raw_price_df[i] / raw_price_df[i][0]\n",
    "    return scaled_price_df"
   ]
  },
  {
   "cell_type": "code",
   "execution_count": null,
   "id": "cf0bda0b",
   "metadata": {},
   "outputs": [],
   "source": [
    "price_scaling(close_price_df)"
   ]
  },
  {
   "cell_type": "code",
   "execution_count": null,
   "id": "511f7905",
   "metadata": {},
   "outputs": [],
   "source": [
    "import random \n",
    "\n",
    "def generate_portfoli_weights(n):\n",
    "    weights= []\n",
    "    for i in range(n):\n",
    "        weights.append(random.random())\n",
    "        \n",
    "    weights=weights/np.sum(weights)\n",
    "    return weights\n",
    "        "
   ]
  },
  {
   "cell_type": "code",
   "execution_count": null,
   "id": "e091fc28",
   "metadata": {},
   "outputs": [],
   "source": [
    "weight= generate_portfoli_weights(10)\n",
    "print(weight)"
   ]
  },
  {
   "cell_type": "code",
   "execution_count": null,
   "id": "0167155a",
   "metadata": {},
   "outputs": [],
   "source": [
    "# Let's define the \"weights\" list similar to the slides\n",
    "weights = [0.032266, 0.094461, 0.117917, 0.132624, 0.145942, 0.128299, 0.10009, 0.007403, 0.088581, 0.152417]\n",
    "weights"
   ]
  },
  {
   "cell_type": "code",
   "execution_count": null,
   "id": "f181f77a",
   "metadata": {},
   "outputs": [],
   "source": [
    "close_price_df\n"
   ]
  },
  {
   "cell_type": "code",
   "execution_count": null,
   "id": "3f2a1b3a",
   "metadata": {},
   "outputs": [],
   "source": [
    "portfolio_df = close_price_df.copy()\n",
    "scaled_df = price_scaling(portfolio_df)\n",
    "scaled_df"
   ]
  },
  {
   "cell_type": "code",
   "execution_count": null,
   "id": "b7728c90",
   "metadata": {},
   "outputs": [],
   "source": [
    "initial_investment = 1000000\n",
    "for i, stock in enumerate(scaled_df.columns[1:]):\n",
    "    portfolio_df[stock] = weights[i] * scaled_df[stock]  * initial_investment\n",
    "portfolio_df.round(1)"
   ]
  },
  {
   "cell_type": "code",
   "execution_count": null,
   "id": "5ad93960",
   "metadata": {},
   "outputs": [],
   "source": [
    "def asset_allocation(df, weights, initial_investment):\n",
    "    portfolio_df = df.copy()\n",
    "\n",
    "    # Scale stock prices using the \"price_scaling\" function that we defined earlier (Make them all start at 1)\n",
    "    scaled_df = price_scaling(df)\n",
    "  \n",
    "    for i, stock in enumerate(scaled_df.columns[1:]):\n",
    "        portfolio_df[stock] = scaled_df[stock] * weights[i] * initial_investment\n",
    "\n",
    "    # Sum up all values and place the result in a new column titled \"portfolio value [$]\" \n",
    "    # Note that we excluded the date column from this calculation\n",
    "    portfolio_df['Portfolio Value [$]'] = portfolio_df[portfolio_df != 'Date'].sum(axis = 1, numeric_only = True)\n",
    "            \n",
    "    # Calculate the portfolio percentage daily return and replace NaNs with zeros\n",
    "    portfolio_df['Portfolio Daily Return [%]'] = portfolio_df['Portfolio Value [$]'].pct_change(1) * 100 \n",
    "    portfolio_df.replace(np.nan, 0, inplace = True)\n",
    "    \n",
    "    return portfolio_df"
   ]
  },
  {
   "cell_type": "code",
   "execution_count": null,
   "id": "8086929f",
   "metadata": {},
   "outputs": [],
   "source": [
    "n = len(close_price_df.columns)-1\n",
    "\n",
    "# Let's generate random weights \n",
    "print('Number of stocks under consideration = {}'.format(n))\n",
    "weights = generate_portfoli_weights(n).round(6)\n",
    "print('Portfolio weights = {}'.format(weights))\n",
    "\n",
    "# Let's test out the \"asset_allocation\" function\n",
    "portfolio_df = asset_allocation(close_price_df, weights, 1000000)\n",
    "portfolio_df.round(2)"
   ]
  },
  {
   "cell_type": "code",
   "execution_count": null,
   "id": "32f417c4",
   "metadata": {},
   "outputs": [],
   "source": [
    "# Plot the portfolio percentage daily return\n",
    "plot_financial_data(portfolio_df[['Date', 'Portfolio Daily Return [%]']], 'Portfolio Percentage Daily Return [%]')\n",
    "\n",
    "# Plot each stock position in our portfolio over time\n",
    "# This graph shows how our initial investment in each individual stock grows over time\n",
    "plot_financial_data(portfolio_df.drop(['Portfolio Value [$]', 'Portfolio Daily Return [%]'], axis = 1), 'Portfolio positions [$]')\n",
    "\n",
    "# Plot the total daily value of the portfolio (sum of all positions)\n",
    "plot_financial_data(portfolio_df[['Date', 'Portfolio Value [$]']], 'Total Portfolio Value [$]')"
   ]
  },
  {
   "cell_type": "code",
   "execution_count": null,
   "id": "6a813521",
   "metadata": {},
   "outputs": [],
   "source": [
    "def simulation_engine(weights, initial_investment):\n",
    "\n",
    "    portfolio_df = asset_allocation(close_price_df, weights, initial_investment)\n",
    "  \n",
    "    \n",
    "    return_on_investment = ((portfolio_df['Portfolio Value [$]'][-1:] - \n",
    "                             portfolio_df['Portfolio Value [$]'][0])/ \n",
    "                             portfolio_df['Portfolio Value [$]'][0]) * 100\n",
    "  \n",
    "    #\n",
    "    portfolio_daily_return_df = portfolio_df.drop(columns = ['Date', 'Portfolio Value [$]', 'Portfolio Daily Return [%]'])\n",
    "    portfolio_daily_return_df = portfolio_daily_return_df.pct_change(1) \n",
    "  \n",
    "\n",
    "    expected_portfolio_return = np.sum(weights * portfolio_daily_return_df.mean() ) * 252\n",
    "  \n",
    "    \n",
    "    covariance = portfolio_daily_return_df.cov() * 252 \n",
    "    expected_volatility = np.sqrt(np.dot(weights.T, np.dot(covariance, weights)))\n",
    "\n",
    "    # Check out the chart for the 10-years U.S. treasury at https://ycharts.com/indicators/10_year_treasury_rate\n",
    "    rf = 0.03 # Try to set the risk free rate of return to 1% (assumption)\n",
    "\n",
    "    # Calculate Sharpe ratio\n",
    "    sharpe_ratio = (expected_portfolio_return - rf)/expected_volatility \n",
    "    return expected_portfolio_return, expected_volatility, sharpe_ratio, portfolio_df['Portfolio Value [$]'][-1:].values[0], return_on_investment.values[0]\n",
    "\n",
    "\n",
    "initial_investment = 1000000\n",
    "portfolio_metrics = simulation_engine(weights,initial_investment)\n",
    "\n",
    "\n",
    "print('Expected Portfolio Annual Return = {:.2f}%'.format(portfolio_metrics[0] * 100))\n",
    "print('Portfolio Standard Deviation (Volatility) = {:.2f}%'.format(portfolio_metrics[1] * 100))\n",
    "print('Sharpe Ratio = {:.2f}'.format(portfolio_metrics[2]))\n",
    "print('Portfolio Final Value = ${:.2f}'.format(portfolio_metrics[3]))\n",
    "print('Return on Investment = {:.2f}%'.format(portfolio_metrics[4]))\n"
   ]
  },
  {
   "cell_type": "code",
   "execution_count": null,
   "id": "b75c3a65",
   "metadata": {},
   "outputs": [],
   "source": [
    "#Set the number of simulation runs\n",
    "sim_runs = 25000\n",
    "initial_investment = 1000000\n",
    "\n",
    "# Placeholder to store all weights\n",
    "weights_runs = np.zeros((sim_runs, n))\n",
    "\n",
    "# Placeholder to store all Sharpe ratios\n",
    "sharpe_ratio_runs = np.zeros(sim_runs)\n",
    "\n",
    "# Placeholder to store all expected returns\n",
    "expected_portfolio_returns_runs = np.zeros(sim_runs)\n",
    "\n",
    "# Placeholder to store all volatility values\n",
    "volatility_runs = np.zeros(sim_runs)\n",
    "\n",
    "# Placeholder to store all returns on investment\n",
    "return_on_investment_runs = np.zeros(sim_runs)\n",
    "\n",
    "# Placeholder to store all final portfolio values\n",
    "final_value_runs = np.zeros(sim_runs)\n",
    "\n",
    "for i in range(sim_runs):\n",
    "    # Generate random weights \n",
    "    weights = generate_portfoli_weights(n)\n",
    "    # Store the weights\n",
    "    weights_runs[i,:] = weights\n",
    "    \n",
    "    # Call \"simulation_engine\" function and store Sharpe ratio, return and volatility\n",
    "    # Note that asset allocation is performed using the \"asset_allocation\" function  \n",
    "    expected_portfolio_returns_runs[i], volatility_runs[i], sharpe_ratio_runs[i], final_value_runs[i], return_on_investment_runs[i] = simulation_engine(weights, initial_investment)\n",
    "    print(\"Simulation Run = {}\".format(i))   \n",
    "    print(\"Weights = {}, Final Value = ${:.2f}, Sharpe Ratio = {:.2f}\".format(weights_runs[i].round(3), final_value_runs[i], sharpe_ratio_runs[i]))   \n",
    "    print('\\n')\n"
   ]
  },
  {
   "cell_type": "code",
   "execution_count": null,
   "id": "0ab72de6",
   "metadata": {},
   "outputs": [],
   "source": [
    "# Step 1: Find the index of the highest expected return\n",
    "best_return_index = expected_portfolio_returns_runs.argmax()\n",
    "\n",
    "# Step 2: Extract the weights and other stats\n",
    "best_return = expected_portfolio_returns_runs[best_return_index]\n",
    "best_weights = weights_runs[best_return_index]\n",
    "best_final_value = final_value_runs[best_return_index]\n",
    "best_sharpe = sharpe_ratio_runs[best_return_index]\n",
    "\n",
    "# Step 3: Print the result\n",
    "print(\"Highest Expected Return Portfolio\")\n",
    "print(\"Expected Return: {:.2f}%\".format(best_return * 100))  # if return is in decimal\n",
    "print(\"Final Portfolio Value: ${:,.2f}\".format(best_final_value))\n",
    "print(\"Sharpe Ratio: {:.2f}\".format(best_sharpe))\n",
    "print(\"Asset Weights: \", best_weights.round(3))\n"
   ]
  },
  {
   "cell_type": "code",
   "execution_count": null,
   "id": "4402b051",
   "metadata": {},
   "outputs": [],
   "source": [
    "sharpe_ratio_runs\n",
    "sharpe_ratio_runs.argmax()\n",
    "sharpe_ratio_runs.max()\n",
    "weights_runs\n",
    "weights_runs[sharpe_ratio_runs.argmax(), :]\n"
   ]
  },
  {
   "cell_type": "code",
   "execution_count": null,
   "id": "5d55dced",
   "metadata": {},
   "outputs": [],
   "source": [
    "optimal_portfolio_return, optimal_volatility, optimal_sharpe_ratio, highest_final_value, optimal_return_on_investment = simulation_engine(weights_runs[sharpe_ratio_runs.argmax(), :], initial_investment)"
   ]
  },
  {
   "cell_type": "code",
   "execution_count": null,
   "id": "c2a317b2",
   "metadata": {},
   "outputs": [],
   "source": [
    "print('Best Portfolio Metrics Based on {} Monte Carlo Simulation Runs:'.format(sim_runs))\n",
    "print('  - Portfolio Expected Annual Return = {:.02f}%'.format(optimal_portfolio_return * 100))\n",
    "print('  - Portfolio Standard Deviation (Volatility) = {:.02f}%'.format(optimal_volatility * 100))\n",
    "print('  - Sharpe Ratio = {:.02f}'.format(optimal_sharpe_ratio))\n",
    "print('  - Final Value = ${:.02f}'.format(highest_final_value))\n",
    "print('  - Return on Investment = {:.02f}%'.format(optimal_return_on_investment))"
   ]
  },
  {
   "cell_type": "code",
   "execution_count": null,
   "id": "f3b93854",
   "metadata": {},
   "outputs": [],
   "source": [
    "# Create a DataFrame that contains volatility, return, and Sharpe ratio for all simualation runs\n",
    "sim_out_df = pd.DataFrame({'Volatility': volatility_runs.tolist(), 'Portfolio_Return': expected_portfolio_returns_runs.tolist(), 'Sharpe_Ratio': sharpe_ratio_runs.tolist() })\n",
    "sim_out_df"
   ]
  },
  {
   "cell_type": "code",
   "execution_count": null,
   "id": "c97baf28",
   "metadata": {},
   "outputs": [],
   "source": [
    "# Plot volatility vs. return for all simulation runs\n",
    "# Highlight the volatility and return that corresponds to the highest Sharpe ratio\n",
    "import plotly.graph_objects as go\n",
    "fig = px.scatter(sim_out_df, x = 'Volatility', y = 'Portfolio_Return', color = 'Sharpe_Ratio', size = 'Sharpe_Ratio', hover_data = ['Sharpe_Ratio'] )\n",
    "fig.update_layout({'plot_bgcolor': \"white\"})\n",
    "fig.show()\n"
   ]
  },
  {
   "cell_type": "code",
   "execution_count": null,
   "id": "26a2a16c",
   "metadata": {},
   "outputs": [],
   "source": [
    "# Let's highlight the point with the highest Sharpe ratio\n",
    "fig = px.scatter(sim_out_df, x = 'Volatility', y = 'Portfolio_Return', color = 'Sharpe_Ratio', size = 'Sharpe_Ratio', hover_data = ['Sharpe_Ratio'] )\n",
    "fig.add_trace(go.Scatter(x = [optimal_volatility], y = [optimal_portfolio_return], mode = 'markers', name = 'Optimal Point', marker = dict(size=[40], color = 'red')))\n",
    "fig.update_layout(coloraxis_colorbar = dict(y = 0.7, dtick = 5))\n",
    "fig.update_layout({'plot_bgcolor': \"white\"})\n",
    "fig.show()"
   ]
  },
  {
   "cell_type": "code",
   "execution_count": null,
   "id": "35d9ec07",
   "metadata": {},
   "outputs": [],
   "source": []
  }
 ],
 "metadata": {
  "kernelspec": {
   "display_name": "Python 3",
   "language": "python",
   "name": "python3"
  },
  "language_info": {
   "codemirror_mode": {
    "name": "ipython",
    "version": 3
   },
   "file_extension": ".py",
   "mimetype": "text/x-python",
   "name": "python",
   "nbconvert_exporter": "python",
   "pygments_lexer": "ipython3",
   "version": "3.13.3"
  }
 },
 "nbformat": 4,
 "nbformat_minor": 5
}
